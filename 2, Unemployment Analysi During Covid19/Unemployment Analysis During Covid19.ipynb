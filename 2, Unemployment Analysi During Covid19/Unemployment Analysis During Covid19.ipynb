{
 "cells": [
  {
   "cell_type": "code",
   "execution_count": null,
   "id": "50690e2b",
   "metadata": {},
   "outputs": [],
   "source": [
    "# Import necessary libraries\n",
    "import pandas as pd\n",
    "import numpy as np\n",
    "import seaborn as sns\n",
    "import matplotlib.pyplot as plt\n",
    "import warnings\n",
    "import plotly.express as px"
   ]
  },
  {
   "cell_type": "code",
   "execution_count": null,
   "id": "120acabe",
   "metadata": {},
   "outputs": [],
   "source": [
    "# Ignore warnings\n",
    "warnings.filterwarnings('ignore')"
   ]
  },
  {
   "cell_type": "code",
   "execution_count": null,
   "id": "b1f9605d",
   "metadata": {},
   "outputs": [],
   "source": [
    "# Load the dataset\n",
    "data = pd.read_csv(\"Unemployment in India.csv\")"
   ]
  },
  {
   "cell_type": "code",
   "execution_count": null,
   "id": "9e2aabad",
   "metadata": {},
   "outputs": [],
   "source": [
    "# Display basic information about the dataset\n",
    "print(data.info())"
   ]
  },
  {
   "cell_type": "code",
   "execution_count": 5,
   "id": "862ef227",
   "metadata": {},
   "outputs": [],
   "source": [
    "# Check for null values\n",
    "print(\"Null values in each column:\")\n",
    "print(data.isnull().sum())"
   ]
  },
  {
   "cell_type": "code",
   "execution_count": 6,
   "id": "b92bb95d",
   "metadata": {},
   "outputs": [],
   "source": [
    "# Renaming the columns to remove leading and trailing spaces\n",
    "data.columns = [col.strip() for col in data.columns]"
   ]
  },
  {
   "cell_type": "code",
   "execution_count": null,
   "id": "1fe33cd4",
   "metadata": {},
   "outputs": [],
   "source": [
    "# Recheck for null values after renaming\n",
    "print(\"Null values after renaming columns:\")\n",
    "print(data.isnull().sum())"
   ]
  },
  {
   "cell_type": "code",
   "execution_count": null,
   "id": "967e62b2",
   "metadata": {},
   "outputs": [],
   "source": [
    "# Columns to check for null values\n",
    "columns_to_check = ['Region', 'Date', 'Frequency', \n",
    "                    'Estimated Unemployment Rate (%)', \n",
    "                    'Estimated Employed', \n",
    "                    'Estimated Labour Participation Rate (%)', \n",
    "                    'Area']"
   ]
  },
  {
   "cell_type": "code",
   "execution_count": 9,
   "id": "f8a06b6c",
   "metadata": {},
   "outputs": [],
   "source": [
    "# Identify rows with null values in specified columns\n",
    "null_rows = data[data[columns_to_check].isnull().any(axis=1)]"
   ]
  },
  {
   "cell_type": "code",
   "execution_count": null,
   "id": "f3be2e2e",
   "metadata": {},
   "outputs": [],
   "source": [
    "# Print the rows with null values\n",
    "print(\"Rows with null values:\")\n",
    "print(null_rows)"
   ]
  },
  {
   "cell_type": "code",
   "execution_count": null,
   "id": "8da63e90",
   "metadata": {},
   "outputs": [],
   "source": [
    "# Drop rows with null values\n",
    "data.dropna(inplace=True)"
   ]
  },
  {
   "cell_type": "code",
   "execution_count": 12,
   "id": "64b0c433",
   "metadata": {},
   "outputs": [],
   "source": [
    "# Check for null values again\n",
    "print(\"Null values after dropping:\")\n",
    "print(data.isnull().sum())"
   ]
  },
  {
   "cell_type": "code",
   "execution_count": null,
   "id": "f1a30bf7",
   "metadata": {},
   "outputs": [],
   "source": [
    "# Display data types\n",
    "print(\"Data types:\")\n",
    "print(data.dtypes)"
   ]
  },
  {
   "cell_type": "code",
   "execution_count": null,
   "id": "9b9f5fdc",
   "metadata": {},
   "outputs": [],
   "source": [
    "# Convert 'Date' to datetime format and extract additional time features\n",
    "data['Date'] = pd.to_datetime(data['Date'])\n",
    "data['Month'] = data['Date'].dt.month\n",
    "data['Year'] = data['Date'].dt.year\n",
    "data['MM YYYY'] = data['Date'].dt.strftime('%m-%Y')"
   ]
  },
  {
   "cell_type": "code",
   "execution_count": null,
   "id": "c05aa0d5",
   "metadata": {},
   "outputs": [],
   "source": [
    "# Display the first few rows of the modified DataFrame\n",
    "print(data.head())"
   ]
  },
  {
   "cell_type": "code",
   "execution_count": null,
   "id": "7637d423",
   "metadata": {},
   "outputs": [],
   "source": [
    "# Descriptive statistics\n",
    "print(\"Descriptive statistics:\")\n",
    "print(data.describe())"
   ]
  },
  {
   "cell_type": "code",
   "execution_count": null,
   "id": "056d3d29",
   "metadata": {},
   "outputs": [],
   "source": [
    "# Value counts for Area, Region, and Frequency\n",
    "print(\"Area value counts:\")\n",
    "print(data.Area.value_counts())\n",
    "print(\"Region value counts:\")\n",
    "print(data.Region.value_counts())\n",
    "print(\"Frequency value counts:\")\n",
    "print(data.Frequency.value_counts())"
   ]
  },
  {
   "cell_type": "code",
   "execution_count": 18,
   "id": "d097b4af",
   "metadata": {},
   "outputs": [],
   "source": [
    "# Remove trailing spaces in the Frequency column\n",
    "data['Frequency'] = data['Frequency'].str.strip()"
   ]
  },
  {
   "cell_type": "code",
   "execution_count": null,
   "id": "7ac9a233",
   "metadata": {},
   "outputs": [],
   "source": [
    "# Check updated Frequency value counts\n",
    "print(\"Updated Frequency value counts:\")\n",
    "print(data.Frequency.value_counts())"
   ]
  },
  {
   "cell_type": "code",
   "execution_count": null,
   "id": "0f460790",
   "metadata": {},
   "outputs": [],
   "source": [
    "# Unique values in Region\n",
    "print(\"Unique Regions:\")\n",
    "print(data.Region.unique())\n",
    "print(\"Number of unique Regions:\", data.Region.nunique())"
   ]
  },
  {
   "cell_type": "code",
   "execution_count": null,
   "id": "001b4e61",
   "metadata": {},
   "outputs": [],
   "source": [
    "# Plot average estimated employed in each region\n",
    "plot_emp = data[['Estimated Employed', 'Region']]\n",
    "data_emp = plot_emp.groupby('Region').mean().reset_index()\n",
    "data_emp = data_emp.sort_values('Estimated Employed')\n",
    "fig = px.bar(data_emp, x='Region', y='Estimated Employed', color='Region',\n",
    "             title='Average Estimated Employed in Each Region', template='plotly')\n",
    "fig.show()"
   ]
  },
  {
   "cell_type": "code",
   "execution_count": null,
   "id": "bd1455c0",
   "metadata": {},
   "outputs": [],
   "source": [
    "# Plot average estimated labour participation rate by area\n",
    "area = data.groupby('Area')[['Estimated Unemployment Rate (%)', \n",
    "                              'Estimated Employed', \n",
    "                              'Estimated Labour Participation Rate (%)']].mean()\n",
    "area = area.reset_index()\n",
    "\n",
    "fig = px.bar(area, x='Area', y='Estimated Labour Participation Rate (%)', color='Area',\n",
    "             title='Average Estimated Labour Participation Rate (%) by Area')\n",
    "fig.update_layout(xaxis={'categoryorder': 'total descending'})\n",
    "fig.show()"
   ]
  },
  {
   "cell_type": "code",
   "execution_count": null,
   "id": "9a79c41c",
   "metadata": {},
   "outputs": [],
   "source": [
    "# Plotting sunburst chart for unemployment rates\n",
    "unemployment = data[['Region', 'Area', 'Estimated Unemployment Rate (%)']]\n",
    "figure = px.sunburst(unemployment, path=['Area', 'Region'],\n",
    "                     values='Estimated Unemployment Rate (%)',\n",
    "                     width=700, height=600, color_continuous_scale='RdYlGn',\n",
    "                     title=\"Unemployment Rate (%) in India\")\n",
    "figure.show()"
   ]
  },
  {
   "cell_type": "code",
   "execution_count": null,
   "id": "54daf0c1",
   "metadata": {},
   "outputs": [],
   "source": [
    "# Plot average unemployment rate in each region\n",
    "plot_ump = data[['Estimated Unemployment Rate (%)', 'Region']]\n",
    "data_unemp = plot_ump.groupby('Region').mean().reset_index()\n",
    "data_unemp = data_unemp.sort_values('Estimated Unemployment Rate (%)')\n",
    "\n",
    "fig = px.bar(data_unemp, x='Region', y='Estimated Unemployment Rate (%)', color='Region',\n",
    "             title='Average Unemployment Rate (%) in Each Region', template='plotly')\n",
    "fig.show()"
   ]
  }
 ],
 "metadata": {
  "kernelspec": {
   "display_name": "Python 3",
   "language": "python",
   "name": "python3"
  },
  "language_info": {
   "codemirror_mode": {
    "name": "ipython",
    "version": 3
   },
   "file_extension": ".py",
   "mimetype": "text/x-python",
   "name": "python",
   "nbconvert_exporter": "python",
   "pygments_lexer": "ipython3",
   "version": "3.12.7"
  }
 },
 "nbformat": 4,
 "nbformat_minor": 5
}
